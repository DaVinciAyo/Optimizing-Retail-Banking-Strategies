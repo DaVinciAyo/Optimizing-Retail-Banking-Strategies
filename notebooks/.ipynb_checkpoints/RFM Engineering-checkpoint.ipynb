{
 "cells": [
  {
   "cell_type": "code",
   "execution_count": 1,
   "id": "2180163c-83bb-4ca6-b2a2-e81f2e4b91b4",
   "metadata": {},
   "outputs": [],
   "source": [
    "#import libs\n",
    "import pandas as pd\n",
    "import numpy as np\n",
    "import seaborn as sns\n",
    "import matplotlib.pyplot as plt\n",
    "from matplotlib.ticker import FuncFormatter"
   ]
  },
  {
   "cell_type": "code",
   "execution_count": 2,
   "id": "0fe95fe9-0860-4a24-86bb-2ffbafd1ad7a",
   "metadata": {},
   "outputs": [],
   "source": [
    "#READ THE FILE\n",
    "bank = pd.read_csv(\"../output/EDA_bank_data.csv\")"
   ]
  },
  {
   "cell_type": "markdown",
   "id": "2a32fbd0-c5f4-4b7e-9cbf-23317bbdf873",
   "metadata": {},
   "source": [
    "# RFM ANALYSIS"
   ]
  },
  {
   "cell_type": "code",
   "execution_count": 3,
   "id": "a4f9cf3b-fd77-45ea-bb62-08db5b135bfd",
   "metadata": {},
   "outputs": [
    {
     "data": {
      "text/html": [
       "<div>\n",
       "<style scoped>\n",
       "    .dataframe tbody tr th:only-of-type {\n",
       "        vertical-align: middle;\n",
       "    }\n",
       "\n",
       "    .dataframe tbody tr th {\n",
       "        vertical-align: top;\n",
       "    }\n",
       "\n",
       "    .dataframe thead th {\n",
       "        text-align: right;\n",
       "    }\n",
       "</style>\n",
       "<table border=\"1\" class=\"dataframe\">\n",
       "  <thead>\n",
       "    <tr style=\"text-align: right;\">\n",
       "      <th></th>\n",
       "      <th>TransactionID</th>\n",
       "      <th>CustomerID</th>\n",
       "      <th>CustomerDOB</th>\n",
       "      <th>CustGender</th>\n",
       "      <th>CustLocation</th>\n",
       "      <th>CustAccountBalance</th>\n",
       "      <th>TransactionDate</th>\n",
       "      <th>TransactionTime</th>\n",
       "      <th>TransactionAmount (INR)</th>\n",
       "      <th>age</th>\n",
       "      <th>AgeGroup</th>\n",
       "    </tr>\n",
       "  </thead>\n",
       "  <tbody>\n",
       "    <tr>\n",
       "      <th>0</th>\n",
       "      <td>T1</td>\n",
       "      <td>C5841053</td>\n",
       "      <td>1994-01-10</td>\n",
       "      <td>F</td>\n",
       "      <td>JAMSHEDPUR</td>\n",
       "      <td>17819.05</td>\n",
       "      <td>2016-08-02</td>\n",
       "      <td>143207</td>\n",
       "      <td>25.0</td>\n",
       "      <td>22.0</td>\n",
       "      <td>Young</td>\n",
       "    </tr>\n",
       "    <tr>\n",
       "      <th>1</th>\n",
       "      <td>T2</td>\n",
       "      <td>C2142763</td>\n",
       "      <td>1957-04-04</td>\n",
       "      <td>M</td>\n",
       "      <td>JHAJJAR</td>\n",
       "      <td>2270.69</td>\n",
       "      <td>2016-08-02</td>\n",
       "      <td>141858</td>\n",
       "      <td>27999.0</td>\n",
       "      <td>59.0</td>\n",
       "      <td>Senior</td>\n",
       "    </tr>\n",
       "    <tr>\n",
       "      <th>2</th>\n",
       "      <td>T3</td>\n",
       "      <td>C4417068</td>\n",
       "      <td>1996-11-26</td>\n",
       "      <td>F</td>\n",
       "      <td>MUMBAI</td>\n",
       "      <td>17874.44</td>\n",
       "      <td>2016-08-02</td>\n",
       "      <td>142712</td>\n",
       "      <td>459.0</td>\n",
       "      <td>20.0</td>\n",
       "      <td>Young</td>\n",
       "    </tr>\n",
       "    <tr>\n",
       "      <th>3</th>\n",
       "      <td>T4</td>\n",
       "      <td>C5342380</td>\n",
       "      <td>1973-09-14</td>\n",
       "      <td>F</td>\n",
       "      <td>MUMBAI</td>\n",
       "      <td>866503.21</td>\n",
       "      <td>2016-08-02</td>\n",
       "      <td>142714</td>\n",
       "      <td>2060.0</td>\n",
       "      <td>43.0</td>\n",
       "      <td>Middle</td>\n",
       "    </tr>\n",
       "    <tr>\n",
       "      <th>4</th>\n",
       "      <td>T5</td>\n",
       "      <td>C9031234</td>\n",
       "      <td>1988-03-24</td>\n",
       "      <td>F</td>\n",
       "      <td>NAVI MUMBAI</td>\n",
       "      <td>6714.43</td>\n",
       "      <td>2016-08-02</td>\n",
       "      <td>181156</td>\n",
       "      <td>1762.5</td>\n",
       "      <td>28.0</td>\n",
       "      <td>Young</td>\n",
       "    </tr>\n",
       "  </tbody>\n",
       "</table>\n",
       "</div>"
      ],
      "text/plain": [
       "  TransactionID CustomerID CustomerDOB CustGender CustLocation  \\\n",
       "0            T1   C5841053  1994-01-10          F   JAMSHEDPUR   \n",
       "1            T2   C2142763  1957-04-04          M      JHAJJAR   \n",
       "2            T3   C4417068  1996-11-26          F       MUMBAI   \n",
       "3            T4   C5342380  1973-09-14          F       MUMBAI   \n",
       "4            T5   C9031234  1988-03-24          F  NAVI MUMBAI   \n",
       "\n",
       "   CustAccountBalance TransactionDate  TransactionTime  \\\n",
       "0            17819.05      2016-08-02           143207   \n",
       "1             2270.69      2016-08-02           141858   \n",
       "2            17874.44      2016-08-02           142712   \n",
       "3           866503.21      2016-08-02           142714   \n",
       "4             6714.43      2016-08-02           181156   \n",
       "\n",
       "   TransactionAmount (INR)   age AgeGroup  \n",
       "0                     25.0  22.0    Young  \n",
       "1                  27999.0  59.0   Senior  \n",
       "2                    459.0  20.0    Young  \n",
       "3                   2060.0  43.0   Middle  \n",
       "4                   1762.5  28.0    Young  "
      ]
     },
     "execution_count": 3,
     "metadata": {},
     "output_type": "execute_result"
    }
   ],
   "source": [
    "bank.head()"
   ]
  },
  {
   "cell_type": "code",
   "execution_count": 27,
   "id": "2b787ba8-9897-4592-9cfc-12e6d17e5bd5",
   "metadata": {},
   "outputs": [
    {
     "name": "stdout",
     "output_type": "stream",
     "text": [
      "  CustomerID  Recency  Frequency  Monetary\n",
      "0   C1010011       25          2    5106.0\n",
      "1   C1010012       68          1    1499.0\n",
      "2   C1010014       75          2    1455.0\n",
      "3   C1010018       36          1      30.0\n",
      "4   C1010024       64          1    5000.0\n"
     ]
    }
   ],
   "source": [
    "# Convert TransactionDate to datetime format\n",
    "bank['TransactionDate'] = pd.to_datetime(bank['TransactionDate'])\n",
    "\n",
    "# Set reference date\n",
    "reference_date = bank['TransactionDate'].max()\n",
    "\n",
    "# Group data by CustomerID to compute RFM\n",
    "rfm = bank.groupby('CustomerID').agg({\n",
    "    'TransactionDate': lambda x: (reference_date - x.max()).days,  # Recency: days since last transaction\n",
    "    'TransactionID': 'count',  # Frequency: number of transactions\n",
    "    'TransactionAmount (INR)': 'sum'  # Monetary: total spent\n",
    "}).reset_index()\n",
    "\n",
    "# Rename columns\n",
    "rfm.columns = ['CustomerID', 'Recency', 'Frequency', 'Monetary']\n",
    "\n",
    "print(rfm.head())"
   ]
  },
  {
   "cell_type": "code",
   "execution_count": 28,
   "id": "bc450bd6-67ad-4913-8ca7-09112878a9d4",
   "metadata": {},
   "outputs": [
    {
     "data": {
      "text/plain": [
       "(878763, 4)"
      ]
     },
     "execution_count": 28,
     "metadata": {},
     "output_type": "execute_result"
    }
   ],
   "source": [
    "rfm.shape"
   ]
  },
  {
   "cell_type": "code",
   "execution_count": 29,
   "id": "39fe6eaf-aa64-4956-9ae9-87aa28f2de31",
   "metadata": {},
   "outputs": [
    {
     "data": {
      "text/html": [
       "<div>\n",
       "<style scoped>\n",
       "    .dataframe tbody tr th:only-of-type {\n",
       "        vertical-align: middle;\n",
       "    }\n",
       "\n",
       "    .dataframe tbody tr th {\n",
       "        vertical-align: top;\n",
       "    }\n",
       "\n",
       "    .dataframe thead th {\n",
       "        text-align: right;\n",
       "    }\n",
       "</style>\n",
       "<table border=\"1\" class=\"dataframe\">\n",
       "  <thead>\n",
       "    <tr style=\"text-align: right;\">\n",
       "      <th></th>\n",
       "      <th>Recency</th>\n",
       "      <th>Frequency</th>\n",
       "      <th>Monetary</th>\n",
       "    </tr>\n",
       "  </thead>\n",
       "  <tbody>\n",
       "    <tr>\n",
       "      <th>Recency</th>\n",
       "      <td>1.000000</td>\n",
       "      <td>-0.223293</td>\n",
       "      <td>-0.020675</td>\n",
       "    </tr>\n",
       "    <tr>\n",
       "      <th>Frequency</th>\n",
       "      <td>-0.223293</td>\n",
       "      <td>1.000000</td>\n",
       "      <td>0.097491</td>\n",
       "    </tr>\n",
       "    <tr>\n",
       "      <th>Monetary</th>\n",
       "      <td>-0.020675</td>\n",
       "      <td>0.097491</td>\n",
       "      <td>1.000000</td>\n",
       "    </tr>\n",
       "  </tbody>\n",
       "</table>\n",
       "</div>"
      ],
      "text/plain": [
       "            Recency  Frequency  Monetary\n",
       "Recency    1.000000  -0.223293 -0.020675\n",
       "Frequency -0.223293   1.000000  0.097491\n",
       "Monetary  -0.020675   0.097491  1.000000"
      ]
     },
     "execution_count": 29,
     "metadata": {},
     "output_type": "execute_result"
    }
   ],
   "source": [
    "rfm[['Recency', 'Frequency', 'Monetary']].corr()"
   ]
  },
  {
   "cell_type": "code",
   "execution_count": 30,
   "id": "4a3905c2-d236-4871-bbd1-3e3713232846",
   "metadata": {},
   "outputs": [],
   "source": [
    "rfm['R_Score'] = pd.qcut(rfm['Recency'], 4, labels=[4, 3, 2, 1])"
   ]
  },
  {
   "cell_type": "code",
   "execution_count": 31,
   "id": "365b05e8-f98f-4792-a4d3-f558e6503020",
   "metadata": {},
   "outputs": [
    {
     "data": {
      "text/html": [
       "<div>\n",
       "<style scoped>\n",
       "    .dataframe tbody tr th:only-of-type {\n",
       "        vertical-align: middle;\n",
       "    }\n",
       "\n",
       "    .dataframe tbody tr th {\n",
       "        vertical-align: top;\n",
       "    }\n",
       "\n",
       "    .dataframe thead th {\n",
       "        text-align: right;\n",
       "    }\n",
       "</style>\n",
       "<table border=\"1\" class=\"dataframe\">\n",
       "  <thead>\n",
       "    <tr style=\"text-align: right;\">\n",
       "      <th></th>\n",
       "      <th>CustomerID</th>\n",
       "      <th>Recency</th>\n",
       "      <th>Frequency</th>\n",
       "      <th>Monetary</th>\n",
       "      <th>R_Score</th>\n",
       "    </tr>\n",
       "  </thead>\n",
       "  <tbody>\n",
       "    <tr>\n",
       "      <th>0</th>\n",
       "      <td>C1010011</td>\n",
       "      <td>25</td>\n",
       "      <td>2</td>\n",
       "      <td>5106.0</td>\n",
       "      <td>4</td>\n",
       "    </tr>\n",
       "    <tr>\n",
       "      <th>1</th>\n",
       "      <td>C1010012</td>\n",
       "      <td>68</td>\n",
       "      <td>1</td>\n",
       "      <td>1499.0</td>\n",
       "      <td>2</td>\n",
       "    </tr>\n",
       "    <tr>\n",
       "      <th>2</th>\n",
       "      <td>C1010014</td>\n",
       "      <td>75</td>\n",
       "      <td>2</td>\n",
       "      <td>1455.0</td>\n",
       "      <td>1</td>\n",
       "    </tr>\n",
       "    <tr>\n",
       "      <th>3</th>\n",
       "      <td>C1010018</td>\n",
       "      <td>36</td>\n",
       "      <td>1</td>\n",
       "      <td>30.0</td>\n",
       "      <td>4</td>\n",
       "    </tr>\n",
       "    <tr>\n",
       "      <th>4</th>\n",
       "      <td>C1010024</td>\n",
       "      <td>64</td>\n",
       "      <td>1</td>\n",
       "      <td>5000.0</td>\n",
       "      <td>2</td>\n",
       "    </tr>\n",
       "  </tbody>\n",
       "</table>\n",
       "</div>"
      ],
      "text/plain": [
       "  CustomerID  Recency  Frequency  Monetary R_Score\n",
       "0   C1010011       25          2    5106.0       4\n",
       "1   C1010012       68          1    1499.0       2\n",
       "2   C1010014       75          2    1455.0       1\n",
       "3   C1010018       36          1      30.0       4\n",
       "4   C1010024       64          1    5000.0       2"
      ]
     },
     "execution_count": 31,
     "metadata": {},
     "output_type": "execute_result"
    }
   ],
   "source": [
    "rfm.head()"
   ]
  },
  {
   "cell_type": "code",
   "execution_count": 57,
   "id": "9a6c115e-a03a-4574-80bc-55bcdc99e5c8",
   "metadata": {},
   "outputs": [
    {
     "data": {
      "text/plain": [
       "(200000.0, 237208.65)"
      ]
     },
     "execution_count": 57,
     "metadata": {},
     "output_type": "execute_result"
    },
    {
     "data": {
      "image/png": "[encoded data removed]",
      "text/plain": [
       "<Figure size 1500x500 with 1 Axes>"
      ]
     },
     "metadata": {},
     "output_type": "display_data"
    }
   ],
   "source": [
    "#Visualize the distribution along the RFM_Score\n",
    "\n",
    "plt.figure(figsize = (15, 5))\n",
    "sns.countplot(x = rfm[\"R_Score\"], color=\"purple\")\n",
    "plt.ylim(200000)\n"
   ]
  },
  {
   "cell_type": "markdown",
   "id": "46ee8faa-d722-4c93-a894-f56091fab74b",
   "metadata": {},
   "source": [
    "# Recency Score Distribution\n",
    "\n",
    "Score 3 (Highest count,  about 226,000 customers): these are moderately recent customers.\n",
    "\n",
    "Score 4 ( about 224,000 customers): second largest segment, these are your most recent customers.\n",
    "\n",
    "Score 1 ( about 216,000 customers): These customers haven't purchased recently.\n",
    "\n",
    "Score 2 (Lowest count, about 213,000 customers): These represent customers with below-average recency."
   ]
  },
  {
   "cell_type": "code",
   "execution_count": 34,
   "id": "6115f2fc-ad9b-428f-a443-6c40dc7a5aa2",
   "metadata": {},
   "outputs": [],
   "source": [
    "# Custom bins based on inspection\n",
    "rfm['F_Score'] = pd.cut(rfm['Frequency'],\n",
    "                        bins=[0, 1, 2, 4, rfm['Frequency'].max()],\n",
    "                        labels=[1, 2, 3, 4],\n",
    "                        include_lowest=True)"
   ]
  },
  {
   "cell_type": "code",
   "execution_count": 36,
   "id": "ac1c349c-71a3-437f-8bab-85cc89c7102e",
   "metadata": {},
   "outputs": [
    {
     "data": {
      "text/html": [
       "<div>\n",
       "<style scoped>\n",
       "    .dataframe tbody tr th:only-of-type {\n",
       "        vertical-align: middle;\n",
       "    }\n",
       "\n",
       "    .dataframe tbody tr th {\n",
       "        vertical-align: top;\n",
       "    }\n",
       "\n",
       "    .dataframe thead th {\n",
       "        text-align: right;\n",
       "    }\n",
       "</style>\n",
       "<table border=\"1\" class=\"dataframe\">\n",
       "  <thead>\n",
       "    <tr style=\"text-align: right;\">\n",
       "      <th></th>\n",
       "      <th>CustomerID</th>\n",
       "      <th>Recency</th>\n",
       "      <th>Frequency</th>\n",
       "      <th>Monetary</th>\n",
       "      <th>R_Score</th>\n",
       "      <th>F_Score</th>\n",
       "    </tr>\n",
       "  </thead>\n",
       "  <tbody>\n",
       "    <tr>\n",
       "      <th>0</th>\n",
       "      <td>C1010011</td>\n",
       "      <td>25</td>\n",
       "      <td>2</td>\n",
       "      <td>5106.0</td>\n",
       "      <td>4</td>\n",
       "      <td>2</td>\n",
       "    </tr>\n",
       "    <tr>\n",
       "      <th>1</th>\n",
       "      <td>C1010012</td>\n",
       "      <td>68</td>\n",
       "      <td>1</td>\n",
       "      <td>1499.0</td>\n",
       "      <td>2</td>\n",
       "      <td>1</td>\n",
       "    </tr>\n",
       "    <tr>\n",
       "      <th>2</th>\n",
       "      <td>C1010014</td>\n",
       "      <td>75</td>\n",
       "      <td>2</td>\n",
       "      <td>1455.0</td>\n",
       "      <td>1</td>\n",
       "      <td>2</td>\n",
       "    </tr>\n",
       "    <tr>\n",
       "      <th>3</th>\n",
       "      <td>C1010018</td>\n",
       "      <td>36</td>\n",
       "      <td>1</td>\n",
       "      <td>30.0</td>\n",
       "      <td>4</td>\n",
       "      <td>1</td>\n",
       "    </tr>\n",
       "    <tr>\n",
       "      <th>4</th>\n",
       "      <td>C1010024</td>\n",
       "      <td>64</td>\n",
       "      <td>1</td>\n",
       "      <td>5000.0</td>\n",
       "      <td>2</td>\n",
       "      <td>1</td>\n",
       "    </tr>\n",
       "  </tbody>\n",
       "</table>\n",
       "</div>"
      ],
      "text/plain": [
       "  CustomerID  Recency  Frequency  Monetary R_Score F_Score\n",
       "0   C1010011       25          2    5106.0       4       2\n",
       "1   C1010012       68          1    1499.0       2       1\n",
       "2   C1010014       75          2    1455.0       1       2\n",
       "3   C1010018       36          1      30.0       4       1\n",
       "4   C1010024       64          1    5000.0       2       1"
      ]
     },
     "execution_count": 36,
     "metadata": {},
     "output_type": "execute_result"
    }
   ],
   "source": [
    "rfm.head()"
   ]
  },
  {
   "cell_type": "code",
   "execution_count": 41,
   "id": "81532c76-575a-49ff-843c-fea8c4087b66",
   "metadata": {},
   "outputs": [
    {
     "data": {
      "text/plain": [
       "<Axes: xlabel='F_Score', ylabel='count'>"
      ]
     },
     "execution_count": 41,
     "metadata": {},
     "output_type": "execute_result"
    },
    {
     "data": {
      "image/png": "[encoded data removed]",
      "text/plain": [
       "<Figure size 1500x500 with 1 Axes>"
      ]
     },
     "metadata": {},
     "output_type": "display_data"
    }
   ],
   "source": [
    "#Visualize the distribution along the RFM_Score\n",
    "\n",
    "plt.figure(figsize = (15, 5))\n",
    "sns.countplot(x = rfm[\"F_Score\"])"
   ]
  },
  {
   "cell_type": "markdown",
   "id": "39eca4a0-4657-4f1d-8b3c-410f9fdbb381",
   "metadata": {},
   "source": [
    "Bin 1: One-time customers.\n",
    "\n",
    "Bin 2: Low repeaters (2 txns).\n",
    "\n",
    "Bin 3: Moderate (3–4 txns).\n",
    "\n",
    "Bin 4: High frequency (5+ txns)."
   ]
  },
  {
   "cell_type": "code",
   "execution_count": 42,
   "id": "53b45d95-faf5-4456-96f4-6de5a62771cd",
   "metadata": {},
   "outputs": [],
   "source": [
    "rfm['M_Score'] = pd.qcut(rfm['Monetary'], 4, labels=[1, 2, 3, 4], duplicates='drop')"
   ]
  },
  {
   "cell_type": "code",
   "execution_count": 43,
   "id": "be97deb6-b3f9-42d2-9bf8-c95d113dd7bc",
   "metadata": {},
   "outputs": [
    {
     "data": {
      "text/html": [
       "<div>\n",
       "<style scoped>\n",
       "    .dataframe tbody tr th:only-of-type {\n",
       "        vertical-align: middle;\n",
       "    }\n",
       "\n",
       "    .dataframe tbody tr th {\n",
       "        vertical-align: top;\n",
       "    }\n",
       "\n",
       "    .dataframe thead th {\n",
       "        text-align: right;\n",
       "    }\n",
       "</style>\n",
       "<table border=\"1\" class=\"dataframe\">\n",
       "  <thead>\n",
       "    <tr style=\"text-align: right;\">\n",
       "      <th></th>\n",
       "      <th>CustomerID</th>\n",
       "      <th>Recency</th>\n",
       "      <th>Frequency</th>\n",
       "      <th>Monetary</th>\n",
       "      <th>R_Score</th>\n",
       "      <th>F_Score</th>\n",
       "      <th>M_Score</th>\n",
       "    </tr>\n",
       "  </thead>\n",
       "  <tbody>\n",
       "    <tr>\n",
       "      <th>0</th>\n",
       "      <td>C1010011</td>\n",
       "      <td>25</td>\n",
       "      <td>2</td>\n",
       "      <td>5106.0</td>\n",
       "      <td>4</td>\n",
       "      <td>2</td>\n",
       "      <td>4</td>\n",
       "    </tr>\n",
       "    <tr>\n",
       "      <th>1</th>\n",
       "      <td>C1010012</td>\n",
       "      <td>68</td>\n",
       "      <td>1</td>\n",
       "      <td>1499.0</td>\n",
       "      <td>2</td>\n",
       "      <td>1</td>\n",
       "      <td>3</td>\n",
       "    </tr>\n",
       "    <tr>\n",
       "      <th>2</th>\n",
       "      <td>C1010014</td>\n",
       "      <td>75</td>\n",
       "      <td>2</td>\n",
       "      <td>1455.0</td>\n",
       "      <td>1</td>\n",
       "      <td>2</td>\n",
       "      <td>3</td>\n",
       "    </tr>\n",
       "    <tr>\n",
       "      <th>3</th>\n",
       "      <td>C1010018</td>\n",
       "      <td>36</td>\n",
       "      <td>1</td>\n",
       "      <td>30.0</td>\n",
       "      <td>4</td>\n",
       "      <td>1</td>\n",
       "      <td>1</td>\n",
       "    </tr>\n",
       "    <tr>\n",
       "      <th>4</th>\n",
       "      <td>C1010024</td>\n",
       "      <td>64</td>\n",
       "      <td>1</td>\n",
       "      <td>5000.0</td>\n",
       "      <td>2</td>\n",
       "      <td>1</td>\n",
       "      <td>4</td>\n",
       "    </tr>\n",
       "  </tbody>\n",
       "</table>\n",
       "</div>"
      ],
      "text/plain": [
       "  CustomerID  Recency  Frequency  Monetary R_Score F_Score M_Score\n",
       "0   C1010011       25          2    5106.0       4       2       4\n",
       "1   C1010012       68          1    1499.0       2       1       3\n",
       "2   C1010014       75          2    1455.0       1       2       3\n",
       "3   C1010018       36          1      30.0       4       1       1\n",
       "4   C1010024       64          1    5000.0       2       1       4"
      ]
     },
     "execution_count": 43,
     "metadata": {},
     "output_type": "execute_result"
    }
   ],
   "source": [
    "rfm.head()"
   ]
  },
  {
   "cell_type": "code",
   "execution_count": 56,
   "id": "a933e707-6f71-462e-9bb4-faaa9152d2fb",
   "metadata": {},
   "outputs": [
    {
     "data": {
      "text/plain": [
       "(200000.0, 247392.6)"
      ]
     },
     "execution_count": 56,
     "metadata": {},
     "output_type": "execute_result"
    },
    {
     "data": {
      "image/png": "[encoded data removed]",
      "text/plain": [
       "<Figure size 1500x500 with 1 Axes>"
      ]
     },
     "metadata": {},
     "output_type": "display_data"
    }
   ],
   "source": [
    "#Visualize the distribution along the RFM_Score\n",
    "\n",
    "plt.figure(figsize = (15, 5))\n",
    "sns.countplot(x = rfm[\"M_Score\"], color=\"red\")\n",
    "plt.ylim(200000)\n"
   ]
  },
  {
   "cell_type": "markdown",
   "id": "6a14267b-785c-4b45-b8a8-2f799ab2365c",
   "metadata": {},
   "source": [
    "# Monetary Score Distribution\n",
    "The histogram shows the distribution of M_Score (Monetary Value Score) across your customer base:\n",
    "\n",
    "Score 1 (Highest count, about 235,000 customers): These are low-spending customers.\n",
    "\n",
    "Score 2 (Lowest count, about 205,000 customers): This segment has the fewest customers, representing moderate-low spenders.\n",
    "\n",
    "Score 3 ( about 220,000 customers): These customers represent moderate-high spenders.\n",
    "\n",
    "Score 4 (about 215,000 customers): These are likely your highest-value customers in terms of spending."
   ]
  },
  {
   "cell_type": "markdown",
   "id": "b1e06775-9c49-4c11-b261-1cf42d80215e",
   "metadata": {},
   "source": [
    "# 🧮 RFM Scoring"
   ]
  },
  {
   "cell_type": "code",
   "execution_count": 49,
   "id": "1b690b39-19de-4ef5-984d-2b5a50f0f7ff",
   "metadata": {},
   "outputs": [],
   "source": [
    "rfm['RFM_Segment'] = (\n",
    "    rfm['R_Score'].astype(str) + \n",
    "    rfm['F_Score'].astype(str) + \n",
    "    rfm['M_Score'].astype(str)\n",
    ")\n",
    "\n",
    "rfm['RFM_Score'] = (\n",
    "    rfm[['R_Score', 'F_Score', 'M_Score']]\n",
    "    .astype(int)\n",
    "    .sum(axis=1)\n",
    ")"
   ]
  },
  {
   "cell_type": "code",
   "execution_count": 50,
   "id": "2b2dcd32-9bc1-4558-98f1-b5d4a9b10392",
   "metadata": {},
   "outputs": [
    {
     "data": {
      "text/html": [
       "<div>\n",
       "<style scoped>\n",
       "    .dataframe tbody tr th:only-of-type {\n",
       "        vertical-align: middle;\n",
       "    }\n",
       "\n",
       "    .dataframe tbody tr th {\n",
       "        vertical-align: top;\n",
       "    }\n",
       "\n",
       "    .dataframe thead th {\n",
       "        text-align: right;\n",
       "    }\n",
       "</style>\n",
       "<table border=\"1\" class=\"dataframe\">\n",
       "  <thead>\n",
       "    <tr style=\"text-align: right;\">\n",
       "      <th></th>\n",
       "      <th>CustomerID</th>\n",
       "      <th>Recency</th>\n",
       "      <th>Frequency</th>\n",
       "      <th>Monetary</th>\n",
       "      <th>R_Score</th>\n",
       "      <th>F_Score</th>\n",
       "      <th>M_Score</th>\n",
       "      <th>RFM_Segment</th>\n",
       "      <th>RFM_Score</th>\n",
       "    </tr>\n",
       "  </thead>\n",
       "  <tbody>\n",
       "    <tr>\n",
       "      <th>0</th>\n",
       "      <td>C1010011</td>\n",
       "      <td>25</td>\n",
       "      <td>2</td>\n",
       "      <td>5106.0</td>\n",
       "      <td>4</td>\n",
       "      <td>2</td>\n",
       "      <td>4</td>\n",
       "      <td>424</td>\n",
       "      <td>10</td>\n",
       "    </tr>\n",
       "    <tr>\n",
       "      <th>1</th>\n",
       "      <td>C1010012</td>\n",
       "      <td>68</td>\n",
       "      <td>1</td>\n",
       "      <td>1499.0</td>\n",
       "      <td>2</td>\n",
       "      <td>1</td>\n",
       "      <td>3</td>\n",
       "      <td>213</td>\n",
       "      <td>6</td>\n",
       "    </tr>\n",
       "    <tr>\n",
       "      <th>2</th>\n",
       "      <td>C1010014</td>\n",
       "      <td>75</td>\n",
       "      <td>2</td>\n",
       "      <td>1455.0</td>\n",
       "      <td>1</td>\n",
       "      <td>2</td>\n",
       "      <td>3</td>\n",
       "      <td>123</td>\n",
       "      <td>6</td>\n",
       "    </tr>\n",
       "    <tr>\n",
       "      <th>3</th>\n",
       "      <td>C1010018</td>\n",
       "      <td>36</td>\n",
       "      <td>1</td>\n",
       "      <td>30.0</td>\n",
       "      <td>4</td>\n",
       "      <td>1</td>\n",
       "      <td>1</td>\n",
       "      <td>411</td>\n",
       "      <td>6</td>\n",
       "    </tr>\n",
       "    <tr>\n",
       "      <th>4</th>\n",
       "      <td>C1010024</td>\n",
       "      <td>64</td>\n",
       "      <td>1</td>\n",
       "      <td>5000.0</td>\n",
       "      <td>2</td>\n",
       "      <td>1</td>\n",
       "      <td>4</td>\n",
       "      <td>214</td>\n",
       "      <td>7</td>\n",
       "    </tr>\n",
       "  </tbody>\n",
       "</table>\n",
       "</div>"
      ],
      "text/plain": [
       "  CustomerID  Recency  Frequency  Monetary R_Score F_Score M_Score  \\\n",
       "0   C1010011       25          2    5106.0       4       2       4   \n",
       "1   C1010012       68          1    1499.0       2       1       3   \n",
       "2   C1010014       75          2    1455.0       1       2       3   \n",
       "3   C1010018       36          1      30.0       4       1       1   \n",
       "4   C1010024       64          1    5000.0       2       1       4   \n",
       "\n",
       "  RFM_Segment  RFM_Score  \n",
       "0         424         10  \n",
       "1         213          6  \n",
       "2         123          6  \n",
       "3         411          6  \n",
       "4         214          7  "
      ]
     },
     "execution_count": 50,
     "metadata": {},
     "output_type": "execute_result"
    }
   ],
   "source": [
    "rfm.head()"
   ]
  },
  {
   "cell_type": "code",
   "execution_count": 55,
   "id": "a325525f-d028-4661-91a4-2bbb441e28f5",
   "metadata": {},
   "outputs": [
    {
     "data": {
      "text/plain": [
       "<Axes: xlabel='RFM_Score', ylabel='count'>"
      ]
     },
     "execution_count": 55,
     "metadata": {},
     "output_type": "execute_result"
    },
    {
     "data": {
      "image/png": "[encoded data removed]",
      "text/plain": [
       "<Figure size 1500x500 with 1 Axes>"
      ]
     },
     "metadata": {},
     "output_type": "display_data"
    }
   ],
   "source": [
    "#Visualize the distribution along the RFM_Score\n",
    "\n",
    "plt.figure(figsize = (15, 5))\n",
    "sns.countplot(x = rfm[\"RFM_Score\"], color =\"green\")\n"
   ]
  },
  {
   "cell_type": "markdown",
   "id": "0164a249-b419-45ee-8d6f-cefecea6c3fb",
   "metadata": {},
   "source": [
    "#  Segment Mapping"
   ]
  },
  {
   "cell_type": "code",
   "execution_count": 51,
   "id": "53d21d31-04d3-4974-82ef-b16b37616b15",
   "metadata": {},
   "outputs": [],
   "source": [
    "def assign_segment(score):\n",
    "    if score >= 9:\n",
    "        return 'Best Customers'\n",
    "    elif score >= 6:\n",
    "        return 'Loyal Customers'\n",
    "    elif score >= 4:\n",
    "        return 'At Risk'\n",
    "    else:\n",
    "        return 'Churned'\n",
    "\n",
    "rfm['Segment'] = rfm['RFM_Score'].apply(assign_segment)"
   ]
  },
  {
   "cell_type": "code",
   "execution_count": 52,
   "id": "44454d88-a8ff-45a8-afe9-8df04dce8907",
   "metadata": {},
   "outputs": [
    {
     "data": {
      "text/html": [
       "<div>\n",
       "<style scoped>\n",
       "    .dataframe tbody tr th:only-of-type {\n",
       "        vertical-align: middle;\n",
       "    }\n",
       "\n",
       "    .dataframe tbody tr th {\n",
       "        vertical-align: top;\n",
       "    }\n",
       "\n",
       "    .dataframe thead th {\n",
       "        text-align: right;\n",
       "    }\n",
       "</style>\n",
       "<table border=\"1\" class=\"dataframe\">\n",
       "  <thead>\n",
       "    <tr style=\"text-align: right;\">\n",
       "      <th></th>\n",
       "      <th>CustomerID</th>\n",
       "      <th>Recency</th>\n",
       "      <th>Frequency</th>\n",
       "      <th>Monetary</th>\n",
       "      <th>R_Score</th>\n",
       "      <th>F_Score</th>\n",
       "      <th>M_Score</th>\n",
       "      <th>RFM_Segment</th>\n",
       "      <th>RFM_Score</th>\n",
       "      <th>Segment</th>\n",
       "    </tr>\n",
       "  </thead>\n",
       "  <tbody>\n",
       "    <tr>\n",
       "      <th>0</th>\n",
       "      <td>C1010011</td>\n",
       "      <td>25</td>\n",
       "      <td>2</td>\n",
       "      <td>5106.0</td>\n",
       "      <td>4</td>\n",
       "      <td>2</td>\n",
       "      <td>4</td>\n",
       "      <td>424</td>\n",
       "      <td>10</td>\n",
       "      <td>Best Customers</td>\n",
       "    </tr>\n",
       "    <tr>\n",
       "      <th>1</th>\n",
       "      <td>C1010012</td>\n",
       "      <td>68</td>\n",
       "      <td>1</td>\n",
       "      <td>1499.0</td>\n",
       "      <td>2</td>\n",
       "      <td>1</td>\n",
       "      <td>3</td>\n",
       "      <td>213</td>\n",
       "      <td>6</td>\n",
       "      <td>Loyal Customers</td>\n",
       "    </tr>\n",
       "    <tr>\n",
       "      <th>2</th>\n",
       "      <td>C1010014</td>\n",
       "      <td>75</td>\n",
       "      <td>2</td>\n",
       "      <td>1455.0</td>\n",
       "      <td>1</td>\n",
       "      <td>2</td>\n",
       "      <td>3</td>\n",
       "      <td>123</td>\n",
       "      <td>6</td>\n",
       "      <td>Loyal Customers</td>\n",
       "    </tr>\n",
       "    <tr>\n",
       "      <th>3</th>\n",
       "      <td>C1010018</td>\n",
       "      <td>36</td>\n",
       "      <td>1</td>\n",
       "      <td>30.0</td>\n",
       "      <td>4</td>\n",
       "      <td>1</td>\n",
       "      <td>1</td>\n",
       "      <td>411</td>\n",
       "      <td>6</td>\n",
       "      <td>Loyal Customers</td>\n",
       "    </tr>\n",
       "    <tr>\n",
       "      <th>4</th>\n",
       "      <td>C1010024</td>\n",
       "      <td>64</td>\n",
       "      <td>1</td>\n",
       "      <td>5000.0</td>\n",
       "      <td>2</td>\n",
       "      <td>1</td>\n",
       "      <td>4</td>\n",
       "      <td>214</td>\n",
       "      <td>7</td>\n",
       "      <td>Loyal Customers</td>\n",
       "    </tr>\n",
       "  </tbody>\n",
       "</table>\n",
       "</div>"
      ],
      "text/plain": [
       "  CustomerID  Recency  Frequency  Monetary R_Score F_Score M_Score  \\\n",
       "0   C1010011       25          2    5106.0       4       2       4   \n",
       "1   C1010012       68          1    1499.0       2       1       3   \n",
       "2   C1010014       75          2    1455.0       1       2       3   \n",
       "3   C1010018       36          1      30.0       4       1       1   \n",
       "4   C1010024       64          1    5000.0       2       1       4   \n",
       "\n",
       "  RFM_Segment  RFM_Score          Segment  \n",
       "0         424         10   Best Customers  \n",
       "1         213          6  Loyal Customers  \n",
       "2         123          6  Loyal Customers  \n",
       "3         411          6  Loyal Customers  \n",
       "4         214          7  Loyal Customers  "
      ]
     },
     "execution_count": 52,
     "metadata": {},
     "output_type": "execute_result"
    }
   ],
   "source": [
    "rfm.head()"
   ]
  },
  {
   "cell_type": "code",
   "execution_count": 61,
   "id": "ce5be344-2560-468d-a3c5-7a7147a2e236",
   "metadata": {},
   "outputs": [
    {
     "data": {
      "text/plain": [
       "<Axes: xlabel='Segment', ylabel='count'>"
      ]
     },
     "execution_count": 61,
     "metadata": {},
     "output_type": "execute_result"
    },
    {
     "data": {
      "image/png": "[encoded data removed]",
      "text/plain": [
       "<Figure size 1500x500 with 1 Axes>"
      ]
     },
     "metadata": {},
     "output_type": "display_data"
    }
   ],
   "source": [
    "#Visualize the distribution along the RFM_Score\n",
    "\n",
    "plt.figure(figsize = (15, 5))\n",
    "sns.set_palette(\"pastel\")\n",
    "sns.countplot(x = rfm[\"Segment\"],hue=rfm['Segment'])\n",
    "\n"
   ]
  },
  {
   "cell_type": "markdown",
   "id": "8f989019-c162-4e7f-bce6-088232cd0d78",
   "metadata": {},
   "source": [
    "# Key Takeaways\n",
    "- Best Customers (~100,000): These are high-value customers with frequent transactions.\n",
    "- Loyal Customers (~450,000): A strong base that consistently engages.\n",
    "- At Risk (~300,000): These customers show signs of decreasing engagement.\n",
    "- Churned (~50,000): Customers who have likely stopped transacting altogether.\n",
    "\n",
    "# Possible Actions\n",
    "- Retention Efforts: Focus on At Risk customers with personalized incentives.\n",
    "- Reactivation Strategies: Target Churned customers with special promotions.\n",
    "- Loyalty Programs: Strengthen engagement with Loyal and Best Customers.\n",
    "\n"
   ]
  },
  {
   "cell_type": "code",
   "execution_count": 15,
   "id": "8d0f25aa-d996-4a46-893d-11e947b7a06e",
   "metadata": {},
   "outputs": [],
   "source": [
    "from sklearn.preprocessing import StandardScaler\n",
    "\n",
    "# Standardize Recency, Frequency, Monetary\n",
    "scaler = StandardScaler()\n",
    "rfm_scaled = scaler.fit_transform(rfm[['Recency', 'Frequency', 'Monetary']])"
   ]
  },
  {
   "cell_type": "code",
   "execution_count": 16,
   "id": "739e67b3-e39a-490a-867a-2182cea3c30f",
   "metadata": {},
   "outputs": [
    {
     "data": {
      "image/png": "[encoded data removed]",
      "text/plain": [
       "<Figure size 800x500 with 1 Axes>"
      ]
     },
     "metadata": {},
     "output_type": "display_data"
    }
   ],
   "source": [
    "from sklearn.cluster import KMeans\n",
    "import matplotlib.pyplot as plt\n",
    "\n",
    "sse = []\n",
    "for k in range(1, 11):\n",
    "    model = KMeans(n_clusters=k, random_state=42)\n",
    "    model.fit(rfm_scaled)\n",
    "    sse.append(model.inertia_)\n",
    "\n",
    "# Plot SSE to find elbow\n",
    "plt.figure(figsize=(8, 5))\n",
    "plt.plot(range(1, 11), sse, marker='o')\n",
    "plt.title(\"Elbow Method - Optimal Number of Clusters\")\n",
    "plt.xlabel(\"k\")\n",
    "plt.ylabel(\"SSE\")\n",
    "plt.grid(True)\n",
    "plt.show()"
   ]
  },
  {
   "cell_type": "code",
   "execution_count": 17,
   "id": "5d925ae8-d9f5-4969-8ec4-d4fef792803a",
   "metadata": {},
   "outputs": [],
   "source": [
    "# Fit model with chosen number of clusters (4)\n",
    "kmeans = KMeans(n_clusters=4, random_state=42)\n",
    "rfm['Cluster'] = kmeans.fit_predict(rfm_scaled)"
   ]
  },
  {
   "cell_type": "code",
   "execution_count": 18,
   "id": "d400f5dc-d6c9-46c6-a4a5-44cf717fcce5",
   "metadata": {},
   "outputs": [
    {
     "name": "stdout",
     "output_type": "stream",
     "text": [
      "   Cluster    Recency  Frequency      Monetary   Count\n",
      "0        0  43.515994   1.000000   1287.333109  356861\n",
      "1        1  47.598984   2.142439   2787.916595  140720\n",
      "2        2  69.344446   1.000000   1318.837572  377627\n",
      "3        3  53.123207   1.356399  79191.089241    3555\n"
     ]
    }
   ],
   "source": [
    "cluster_summary = rfm.groupby('Cluster').agg({\n",
    "    'Recency': 'mean',\n",
    "    'Frequency': 'mean',\n",
    "    'Monetary': 'mean',\n",
    "    'CustomerID': 'count'\n",
    "}).rename(columns={'CustomerID': 'Count'}).reset_index()\n",
    "\n",
    "print(cluster_summary)"
   ]
  },
  {
   "cell_type": "code",
   "execution_count": 19,
   "id": "8ceb93ee-60e0-4aeb-874b-9dfea14fc123",
   "metadata": {},
   "outputs": [
    {
     "data": {
      "image/png": "[encoded data removed]",
      "text/plain": [
       "<Figure size 1200x600 with 1 Axes>"
      ]
     },
     "metadata": {},
     "output_type": "display_data"
    }
   ],
   "source": [
    "import seaborn as sns\n",
    "\n",
    "# Prepare for plotting\n",
    "melted = cluster_summary.melt(id_vars='Cluster', value_vars=['Recency', 'Frequency', 'Monetary'])\n",
    "\n",
    "plt.figure(figsize=(12, 6))\n",
    "sns.barplot(data=melted, x='Cluster', y='value', hue='variable')\n",
    "plt.title(\"Average RFM Metrics by Cluster\")\n",
    "plt.ylabel(\"Average Value\")\n",
    "plt.show()"
   ]
  },
  {
   "cell_type": "code",
   "execution_count": 20,
   "id": "a5334346-4adb-4cdb-a7af-1e5ba1f43ab1",
   "metadata": {},
   "outputs": [
    {
     "name": "stdout",
     "output_type": "stream",
     "text": [
      "['Best Customers' 'Loyal Customers' 'At Risk' 'Churned']\n"
     ]
    }
   ],
   "source": [
    "# View all unique RFM-based segments\n",
    "print(rfm['Segment'].unique())"
   ]
  },
  {
   "cell_type": "code",
   "execution_count": 21,
   "id": "d5ede1c3-4b7d-4753-87c0-3171085964be",
   "metadata": {},
   "outputs": [
    {
     "data": {
      "text/html": [
       "<div>\n",
       "<style scoped>\n",
       "    .dataframe tbody tr th:only-of-type {\n",
       "        vertical-align: middle;\n",
       "    }\n",
       "\n",
       "    .dataframe tbody tr th {\n",
       "        vertical-align: top;\n",
       "    }\n",
       "\n",
       "    .dataframe thead th {\n",
       "        text-align: right;\n",
       "    }\n",
       "</style>\n",
       "<table border=\"1\" class=\"dataframe\">\n",
       "  <thead>\n",
       "    <tr style=\"text-align: right;\">\n",
       "      <th></th>\n",
       "      <th>CustomerID</th>\n",
       "      <th>Recency</th>\n",
       "      <th>Frequency</th>\n",
       "      <th>Monetary</th>\n",
       "      <th>R_Score</th>\n",
       "      <th>F_Score</th>\n",
       "      <th>M_Score</th>\n",
       "      <th>RFM_Segment</th>\n",
       "      <th>RFM_Score</th>\n",
       "      <th>Segment</th>\n",
       "      <th>Cluster</th>\n",
       "    </tr>\n",
       "  </thead>\n",
       "  <tbody>\n",
       "    <tr>\n",
       "      <th>0</th>\n",
       "      <td>C1010011</td>\n",
       "      <td>25</td>\n",
       "      <td>2</td>\n",
       "      <td>5106.0</td>\n",
       "      <td>4</td>\n",
       "      <td>2</td>\n",
       "      <td>4</td>\n",
       "      <td>424</td>\n",
       "      <td>10</td>\n",
       "      <td>Best Customers</td>\n",
       "      <td>1</td>\n",
       "    </tr>\n",
       "    <tr>\n",
       "      <th>1</th>\n",
       "      <td>C1010012</td>\n",
       "      <td>68</td>\n",
       "      <td>1</td>\n",
       "      <td>1499.0</td>\n",
       "      <td>2</td>\n",
       "      <td>1</td>\n",
       "      <td>3</td>\n",
       "      <td>213</td>\n",
       "      <td>6</td>\n",
       "      <td>Loyal Customers</td>\n",
       "      <td>2</td>\n",
       "    </tr>\n",
       "    <tr>\n",
       "      <th>2</th>\n",
       "      <td>C1010014</td>\n",
       "      <td>75</td>\n",
       "      <td>2</td>\n",
       "      <td>1455.0</td>\n",
       "      <td>1</td>\n",
       "      <td>2</td>\n",
       "      <td>3</td>\n",
       "      <td>123</td>\n",
       "      <td>6</td>\n",
       "      <td>Loyal Customers</td>\n",
       "      <td>1</td>\n",
       "    </tr>\n",
       "    <tr>\n",
       "      <th>3</th>\n",
       "      <td>C1010018</td>\n",
       "      <td>36</td>\n",
       "      <td>1</td>\n",
       "      <td>30.0</td>\n",
       "      <td>4</td>\n",
       "      <td>1</td>\n",
       "      <td>1</td>\n",
       "      <td>411</td>\n",
       "      <td>6</td>\n",
       "      <td>Loyal Customers</td>\n",
       "      <td>0</td>\n",
       "    </tr>\n",
       "    <tr>\n",
       "      <th>4</th>\n",
       "      <td>C1010024</td>\n",
       "      <td>64</td>\n",
       "      <td>1</td>\n",
       "      <td>5000.0</td>\n",
       "      <td>2</td>\n",
       "      <td>1</td>\n",
       "      <td>4</td>\n",
       "      <td>214</td>\n",
       "      <td>7</td>\n",
       "      <td>Loyal Customers</td>\n",
       "      <td>2</td>\n",
       "    </tr>\n",
       "  </tbody>\n",
       "</table>\n",
       "</div>"
      ],
      "text/plain": [
       "  CustomerID  Recency  Frequency  Monetary R_Score F_Score M_Score  \\\n",
       "0   C1010011       25          2    5106.0       4       2       4   \n",
       "1   C1010012       68          1    1499.0       2       1       3   \n",
       "2   C1010014       75          2    1455.0       1       2       3   \n",
       "3   C1010018       36          1      30.0       4       1       1   \n",
       "4   C1010024       64          1    5000.0       2       1       4   \n",
       "\n",
       "  RFM_Segment  RFM_Score          Segment  Cluster  \n",
       "0         424         10   Best Customers        1  \n",
       "1         213          6  Loyal Customers        2  \n",
       "2         123          6  Loyal Customers        1  \n",
       "3         411          6  Loyal Customers        0  \n",
       "4         214          7  Loyal Customers        2  "
      ]
     },
     "execution_count": 21,
     "metadata": {},
     "output_type": "execute_result"
    }
   ],
   "source": [
    "rfm.head()"
   ]
  },
  {
   "cell_type": "code",
   "execution_count": 22,
   "id": "166a37f9-766b-4b76-94d4-51de49ee6376",
   "metadata": {},
   "outputs": [],
   "source": [
    "# Save RFM + Clustering results\n",
    "rfm.to_csv(\"../output/rfm_segmented.csv\", index=False)\n"
   ]
  },
  {
   "cell_type": "code",
   "execution_count": null,
   "id": "2c5b687b-1ee5-4d5f-9868-996ada2bf8b8",
   "metadata": {},
   "outputs": [],
   "source": []
  }
 ],
 "metadata": {
  "kernelspec": {
   "display_name": "Python 3 (ipykernel)",
   "language": "python",
   "name": "python3"
  },
  "language_info": {
   "codemirror_mode": {
    "name": "ipython",
    "version": 3
   },
   "file_extension": ".py",
   "mimetype": "text/x-python",
   "name": "python",
   "nbconvert_exporter": "python",
   "pygments_lexer": "ipython3",
   "version": "3.12.7"
  }
 },
 "nbformat": 4,
 "nbformat_minor": 5
}
